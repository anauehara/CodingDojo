{
 "cells": [
  {
   "cell_type": "markdown",
   "metadata": {},
   "source": [
    "# Questão 7\n",
    "\n",
    "Leia 3 valores de ponto flutuante e efetue o cálculo das raízes da equação de Bhaskara. Se não for possível calcular as raízes, mostre a mensagem correspondente “Impossivel calcular”, caso haja uma divisão por 0 ou raiz de numero negativo.\n",
    "\n",
    "Entrada:\n",
    "\n",
    "Leia três valores de ponto flutuante (double) A, B e C.\n",
    "\n",
    "Saída:\n",
    "\n",
    "Se não houver possibilidade de calcular as raízes, apresente a mensagem \"Impossivel calcular\". Caso contrário, imprima o resultado das raízes com 5 dígitos após o ponto, com uma mensagem correspondente conforme exemplo abaixo. Imprima sempre o final de linha após cada mensagem.\n"
   ]
  }
 ],
 "metadata": {
  "language_info": {
   "name": "python"
  }
 },
 "nbformat": 4,
 "nbformat_minor": 2
}
