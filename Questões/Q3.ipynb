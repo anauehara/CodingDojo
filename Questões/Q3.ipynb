{
 "cells": [
  {
   "cell_type": "markdown",
   "metadata": {},
   "source": [
    "# Questão 3\n",
    "\n",
    "Leia um valor de ponto flutuante com duas casas decimais. \n",
    "\n",
    "Este valor representa um valor monetário. A seguir, calcule o menor número de notas e moedas possíveis no qual o valor pode ser decomposto. \n",
    "\n",
    "As notas consideradas são de 100, 50, 20, 10, 5, 2. As moedas possíveis são de 1, 0.50, 0.25, 0.10, 0.05 e 0.01. A seguir mostre a relação de notas necessárias.\n",
    "\n",
    "Entrada:\n",
    "\n",
    "O arquivo de entrada contém um valor de ponto flutuante N (0 ≤ N ≤ 1000000.00).\n",
    "\n",
    "Saída:\n",
    "\n",
    "Imprima a quantidade mínima de notas e moedas necessárias para trocar o valor inicial, conforme exemplo fornecido.\n",
    "Obs: Utilize ponto (.) para separar a parte decimal.\n"
   ]
  },
  {
   "cell_type": "code",
   "execution_count": null,
   "metadata": {
    "vscode": {
     "languageId": "plaintext"
    }
   },
   "outputs": [],
   "source": [
    "#resposta"
   ]
  }
 ],
 "metadata": {
  "language_info": {
   "name": "python"
  }
 },
 "nbformat": 4,
 "nbformat_minor": 2
}
