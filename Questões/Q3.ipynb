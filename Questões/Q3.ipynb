{
 "cells": [
  {
   "cell_type": "markdown",
   "metadata": {},
   "source": [
    "# Questão 3\n",
    "\n",
    "Leia um valor de ponto flutuante com duas casas decimais. \n",
    "\n",
    "Este valor representa um valor monetário. A seguir, calcule o menor número de notas e moedas possíveis no qual o valor pode ser decomposto. \n",
    "\n",
    "As notas consideradas são de 100, 50, 20, 10, 5, 2. As moedas possíveis são de 1, 0.50, 0.25, 0.10, 0.05 e 0.01. A seguir mostre a relação de notas necessárias.\n",
    "\n",
    "Entrada:\n",
    "\n",
    "O arquivo de entrada contém um valor de ponto flutuante N (0 ≤ N ≤ 1000000.00).\n",
    "\n",
    "Saída:\n",
    "\n",
    "Imprima a quantidade mínima de notas e moedas necessárias para trocar o valor inicial, conforme exemplo fornecido.\n",
    "Obs: Utilize ponto (.) para separar a parte decimal.\n"
   ]
  },
  {
   "cell_type": "code",
   "execution_count": null,
   "metadata": {},
   "outputs": [],
   "source": [
    "#resposta"
   ]
  },
  {
   "cell_type": "code",
   "execution_count": 19,
   "metadata": {},
   "outputs": [
    {
     "name": "stdout",
     "output_type": "stream",
     "text": [
      "unidades de notas 100 14\n",
      "unidades de notas 50 0\n",
      "unidades de notas 20 0\n",
      "unidades de notas 10 1\n",
      "unidades de notas 5 1\n",
      "unidades de notas 2 1\n",
      "unidades de moedas 1 0\n",
      "unidades de moedas 0.5 1\n",
      "unidades de moedas 0.25 1\n",
      "unidades de moedas 0.1 2\n",
      "unidades de moedas 0.05 0\n",
      "unidades de moedas 0.01 4\n"
     ]
    }
   ],
   "source": [
    "N = 1417.99\n",
    "valores = [100, 50, 20, 10, 5, 2 , 1, 0.50, 0.25, 0.10, 0.05, 0.01]\n",
    "\n",
    "def notas_necessarias(N):\n",
    "    assert type(N) == float\n",
    "    assert 0 <= N <= 1000000.00\n",
    "    \n",
    "    for i in valores:\n",
    "        valor = N // i \n",
    "        N = N % i\n",
    "\n",
    "        if i < 2:\n",
    "            print(f\"unidades de moedas {i} {int(valor)}\")\n",
    "\n",
    "        else:\n",
    "            print(f\"unidades de notas {i} {int(valor)}\")\n",
    "        #print(N)\n",
    "\n",
    "\n",
    "notas_necessarias(N)"
   ]
  }
 ],
 "metadata": {
  "kernelspec": {
   "display_name": "base",
   "language": "python",
   "name": "python3"
  },
  "language_info": {
   "codemirror_mode": {
    "name": "ipython",
    "version": 3
   },
   "file_extension": ".py",
   "mimetype": "text/x-python",
   "name": "python",
   "nbconvert_exporter": "python",
   "pygments_lexer": "ipython3",
   "version": "3.11.3"
  }
 },
 "nbformat": 4,
 "nbformat_minor": 2
}
