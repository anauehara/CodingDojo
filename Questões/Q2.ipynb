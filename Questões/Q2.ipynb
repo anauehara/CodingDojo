{
 "cells": [
  {
   "cell_type": "markdown",
   "metadata": {},
   "source": [
    "# Questão 2\n",
    "\n",
    "O módulo time fornece uma função, também chamada time, que devolve a Hora Média de Greenwich na “época”, que é um momento arbitrário usado coo ponte de referência. Em sistemas UNIX, a época é primeiro de janeiro de 1970.\n",
    " \n",
    "> import time \n",
    "> time.time()\n",
    "\n",
    "Escreva um script que leia a hora atual e a converta em um tempo em horas, minutos e segundos, mais o número de dias desde a época."
   ]
  },
  {
   "cell_type": "code",
   "execution_count": 1,
   "metadata": {},
   "outputs": [
    {
     "data": {
      "text/plain": [
       "1730813292.9642851"
      ]
     },
     "execution_count": 1,
     "metadata": {},
     "output_type": "execute_result"
    }
   ],
   "source": [
    "#resposta\n",
    "import time\n",
    "time.time()"
   ]
  },
  {
   "cell_type": "code",
   "execution_count": null,
   "metadata": {},
   "outputs": [
    {
     "data": {
      "text/plain": [
       "datetime.datetime(2024, 11, 4, 0, 0)"
      ]
     },
     "execution_count": 4,
     "metadata": {},
     "output_type": "execute_result"
    }
   ],
   "source": [
    "import datetime\n",
    "datetime.datetime.fromisoformat('2024-11-04')\n",
    "datetime.datetime"
   ]
  },
  {
   "cell_type": "code",
   "execution_count": 21,
   "metadata": {},
   "outputs": [],
   "source": [
    "import math\n",
    "def converter_data(hora_atual):\n",
    "    SEGUNDOS_NO_DIA = 24*60*60\n",
    "    dias = math.floor(hora_atual / SEGUNDOS_NO_DIA)\n",
    "    resto = hora_atual % SEGUNDOS_NO_DIA\n",
    "    SEGUNDOS_NA_HORA = 60*60\n",
    "    horas = math.floor(resto / SEGUNDOS_NA_HORA)\n",
    "    resto = resto % SEGUNDOS_NA_HORA\n",
    "    SEGUNDOS_NO_MINUTO = 60\n",
    "    minutos = math.floor(resto / SEGUNDOS_NO_MINUTO)\n",
    "    segundos = resto % SEGUNDOS_NO_MINUTO\n",
    "    print(f\"Dias: {dias}, horas: {horas}, minutos:{minutos}, segundos:{round(segundos,2)}\")"
   ]
  },
  {
   "cell_type": "code",
   "execution_count": 22,
   "metadata": {},
   "outputs": [
    {
     "name": "stdout",
     "output_type": "stream",
     "text": [
      "Dias: 20032, horas: 13, minutos:42, segundos:38.81\n"
     ]
    }
   ],
   "source": [
    "converter_data(time.time())"
   ]
  },
  {
   "cell_type": "code",
   "execution_count": null,
   "metadata": {},
   "outputs": [],
   "source": []
  }
 ],
 "metadata": {
  "kernelspec": {
   "display_name": "base",
   "language": "python",
   "name": "python3"
  },
  "language_info": {
   "codemirror_mode": {
    "name": "ipython",
    "version": 3
   },
   "file_extension": ".py",
   "mimetype": "text/x-python",
   "name": "python",
   "nbconvert_exporter": "python",
   "pygments_lexer": "ipython3",
   "version": "3.11.3"
  }
 },
 "nbformat": 4,
 "nbformat_minor": 2
}
