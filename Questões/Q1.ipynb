{
 "cells": [
  {
   "cell_type": "markdown",
   "metadata": {},
   "source": [
    "# Questão 1\n",
    "\n",
    "Escreva uma função chamada right_justify, que receba uma string chamada s como parâmetro e exiba a string com espaços suficientes à frente para que a última letra da string esteja na coluna 70 da tela:\n",
    "\n",
    ">right_justify(‘monty’)\n",
    "\n",
    "DICA: Use concatenação de strings e repetição. Além, disso o Python oferece uma função intergrada chamada len, que aprensenta o comprimento de uma string, então p valor de len(‘monty’) é 5. "
   ]
  },
  {
   "cell_type": "code",
   "execution_count": 16,
   "metadata": {},
   "outputs": [
    {
     "name": "stdout",
     "output_type": "stream",
     "text": [
      "Nenhuma letra na string.\n"
     ]
    }
   ],
   "source": [
    "#resposta\n",
    "def right_justify(s):\n",
    "    \n",
    "    #print(final)\n",
    "    #print(len(final))\n",
    "    save = None\n",
    "    for i in range(len(s)-1, 0, -1):\n",
    "        if s[i].isalpha():\n",
    "            save = len(s) - i\n",
    "            break\n",
    "    if save == None:\n",
    "        print(\"Nenhuma letra na string.\")\n",
    "    else:\n",
    "\n",
    "        final = \" \"*(70-save) + s\n",
    "        print(final)\n",
    "        print(len(final))\n",
    "        print(final.index('s'))\n",
    "\n",
    "\n",
    "        # print(f'{s:>70}')\n",
    "\n",
    "right_justify(\"7 35@!}73)*/\")"
   ]
  },
  {
   "cell_type": "code",
   "execution_count": null,
   "metadata": {},
   "outputs": [],
   "source": []
  }
 ],
 "metadata": {
  "kernelspec": {
   "display_name": "base",
   "language": "python",
   "name": "python3"
  },
  "language_info": {
   "codemirror_mode": {
    "name": "ipython",
    "version": 3
   },
   "file_extension": ".py",
   "mimetype": "text/x-python",
   "name": "python",
   "nbconvert_exporter": "python",
   "pygments_lexer": "ipython3",
   "version": "3.11.3"
  }
 },
 "nbformat": 4,
 "nbformat_minor": 2
}
